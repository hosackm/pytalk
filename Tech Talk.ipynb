{
 "cells": [
  {
   "cell_type": "markdown",
   "metadata": {},
   "source": [
    "# Fundemental Differences From C"
   ]
  },
  {
   "cell_type": "markdown",
   "metadata": {},
   "source": [
    "## Data Types"
   ]
  },
  {
   "cell_type": "code",
   "execution_count": null,
   "metadata": {
    "collapsed": false
   },
   "outputs": [],
   "source": [
    "# Lists are a container of objects. They can have objects appended to them or removed from them.\n",
    "alist = [1, 2, \"three\", 4]\n",
    "alist.append(5)\n",
    "alist.remove(1)\n",
    "print(alist)"
   ]
  },
  {
   "cell_type": "code",
   "execution_count": null,
   "metadata": {
    "collapsed": false
   },
   "outputs": [],
   "source": [
    "# Tuples are like lists in that they contain multiple objects but they can not be modified after they are created.\n",
    "atup = (\"hello\", 13, True)"
   ]
  },
  {
   "cell_type": "code",
   "execution_count": null,
   "metadata": {
    "collapsed": false
   },
   "outputs": [],
   "source": [
    "# A set is like the mathematical term set.  Only one instance of an object can exist in it.  Lots of operations like\n",
    "# union, difference, etc.\n",
    "set1 = {1, 2, 3, 4}\n",
    "set2 = {3, 4, 5, 6}\n",
    "\n",
    "diff = set1.difference(set2)\n",
    "union = set1.union(set2)\n",
    "\n",
    "print(diff, union)"
   ]
  },
  {
   "cell_type": "code",
   "execution_count": null,
   "metadata": {
    "collapsed": true
   },
   "outputs": [],
   "source": [
    "# Dictionaries are a set of key and value pairs.\n"
   ]
  },
  {
   "cell_type": "code",
   "execution_count": null,
   "metadata": {
    "collapsed": true
   },
   "outputs": [],
   "source": [
    "# For loops on the big four data types\n",
    "for i in [1, 2, 3, 4]:\n",
    "    print(i)\n",
    "\n",
    "for i in (1, 2, 3, 4):\n",
    "    print(i)\n",
    "\n",
    "for i in {1, 2, 3, 4}:\n",
    "    print(i)\n",
    "\n",
    "for key in {\"one\": 1, \"two\": 2, \"three\": 3}:\n",
    "    print(key)"
   ]
  },
  {
   "cell_type": "code",
   "execution_count": null,
   "metadata": {
    "collapsed": false
   },
   "outputs": [],
   "source": [
    "# for loop tips\n",
    "# =============\n",
    "letters = [\"a\", \"b\", \"c\", \"d\"]\n",
    "\n",
    "# if you need the index and value in a list, set, or tuple\n",
    "# avoid\n",
    "i = 0\n",
    "for val in letters:\n",
    "    print(\"index:\", i, \"value:\", val)\n",
    "    i += 1\n",
    "\n",
    "# use enumerate\n",
    "for i, val in enumerate(letters):\n",
    "    print(\"index:\", i, \"value:\", val)\n",
    "    \n",
    "\n",
    "grocerylist = {\"apples\": 3, \"lemons\":4, \"sugar\": 1}\n",
    "\n",
    "# if you need to key and value\n",
    "\n",
    "# avoid using [] inside for loop\n",
    "for itemname in grocerylist:\n",
    "    print(\"You need {} {}\".format(grocerylist[itemname], itemname))\n",
    "\n",
    "# use .items()\n",
    "for item, quantity in grocerylist.items():\n",
    "    print(\"You need {} {}\".format(quantity, item))"
   ]
  },
  {
   "cell_type": "markdown",
   "metadata": {},
   "source": [
    "## Memory Model"
   ]
  },
  {
   "cell_type": "code",
   "execution_count": 17,
   "metadata": {
    "collapsed": false
   },
   "outputs": [
    {
     "name": "stdout",
     "output_type": "stream",
     "text": [
      "4316279072 4316279072 4316279072\n",
      "4357528328 4316279072\n"
     ]
    }
   ],
   "source": [
    "# literals on right hand side are evaluated and the aliases ('x' 'y' or 'z') are assigned to them.\n",
    "# if a literal already exists a reference is made to it.  No new object needs to be created.\n",
    "x = 42\n",
    "y = x\n",
    "z = 42\n",
    "\n",
    "print(id(x), id(y), id(z))\n",
    "\n",
    "alist = [1, 2, x, 9]\n",
    "print(id(alist), id(alist[2]))"
   ]
  },
  {
   "cell_type": "markdown",
   "metadata": {},
   "source": [
    "## Boolean Operations (==, is, in)"
   ]
  },
  {
   "cell_type": "markdown",
   "metadata": {},
   "source": [
    "## Scope of variables"
   ]
  },
  {
   "cell_type": "code",
   "execution_count": null,
   "metadata": {
    "collapsed": true
   },
   "outputs": [],
   "source": [
    "GLOBAL_VAR = \"IM A GLOBAL VAR\"\n",
    "\n",
    "def level1_function():\n",
    "    LEVEL_1_VAR = \"LEVEL 1\"\n",
    "    # GLOBAL_VAR and LEVEL_1_VAR in scope\n",
    "\n",
    "    def level2_function():\n",
    "        LEVEL_2_VAR = \"LEVEL 2\"\n",
    "        # GLOBAL_VAR, LEVEL_1_VAR, and LEVEL_2_VAR in scope\n",
    "        \n",
    "        print(LEVEL_1_VAR)\n",
    "        print(LEVEL_2_VAR)\n",
    "        print(GLOBAL_VAR)"
   ]
  },
  {
   "cell_type": "markdown",
   "metadata": {},
   "source": [
    "## Reference Counting for Garbage Collection"
   ]
  },
  {
   "cell_type": "markdown",
   "metadata": {},
   "source": [
    "## Error Handling"
   ]
  },
  {
   "cell_type": "code",
   "execution_count": null,
   "metadata": {
    "collapsed": true
   },
   "outputs": [],
   "source": [
    "try:\n",
    "    int(\"dolby\")\n",
    "except:\n",
    "    print(\"BOOM!\")"
   ]
  },
  {
   "cell_type": "code",
   "execution_count": null,
   "metadata": {
    "collapsed": true
   },
   "outputs": [],
   "source": [
    "try:\n",
    "    100 / 0\n",
    "except ZeroDivisionError:\n",
    "    print(\"Don't divide by 0 you dumb-dumb\")"
   ]
  },
  {
   "cell_type": "code",
   "execution_count": null,
   "metadata": {
    "collapsed": false
   },
   "outputs": [],
   "source": [
    "from random import choice\n",
    "def f():\n",
    "    raise choice((NameError, ValueError))\n",
    "\n",
    "try:\n",
    "    f()\n",
    "except NameError:\n",
    "    print(\"Name error was raised\")\n",
    "except ValueError:\n",
    "    print(\"Value error was raised\")"
   ]
  },
  {
   "cell_type": "code",
   "execution_count": null,
   "metadata": {
    "collapsed": false
   },
   "outputs": [],
   "source": [
    "# Else\n",
    "try:\n",
    "    int(\"3\")\n",
    "except:\n",
    "    print(\"BOOM!\")\n",
    "else:\n",
    "    print(\"Ya, it worked...\")\n",
    "\n",
    "    \n",
    "# Finally\n",
    "try:\n",
    "    int(\"hello\")\n",
    "except:\n",
    "    print(\"BOOM!\")\n",
    "finally:\n",
    "    print(\"it's all over\")"
   ]
  },
  {
   "cell_type": "code",
   "execution_count": null,
   "metadata": {
    "collapsed": false
   },
   "outputs": [],
   "source": [
    "# What if you don't handle a specific Exception\n",
    "from random import choice\n",
    "def f():\n",
    "    raise choice((NameError, ValueError, AttributeError))\n",
    "\n",
    "try:\n",
    "    f()\n",
    "except NameError:\n",
    "    print(\"Name error was raised\")\n",
    "except ValueError:\n",
    "    print(\"Value error was raised\")"
   ]
  },
  {
   "cell_type": "code",
   "execution_count": null,
   "metadata": {
    "collapsed": false
   },
   "outputs": [],
   "source": [
    "# Be careful when subclassing Exceptions\n",
    "class MyCustomException(ValueError): pass\n",
    "\n",
    "try:\n",
    "    int(\"dolby\")\n",
    "except ValueError:\n",
    "    print(\"Handling ValueError\")\n",
    "except MyCustomException:\n",
    "    print(\"Handling MyException\")"
   ]
  },
  {
   "cell_type": "markdown",
   "metadata": {},
   "source": [
    "## Magic Methods & Dunderscoring"
   ]
  },
  {
   "cell_type": "markdown",
   "metadata": {},
   "source": [
    "## Coding Safely '*with*' Context Managers"
   ]
  },
  {
   "cell_type": "markdown",
   "metadata": {},
   "source": [
    "## Function Arguments and Returned Values"
   ]
  },
  {
   "cell_type": "markdown",
   "metadata": {},
   "source": [
    "## The import statement"
   ]
  },
  {
   "cell_type": "markdown",
   "metadata": {},
   "source": [
    "# Python Tools You Should Use"
   ]
  },
  {
   "cell_type": "markdown",
   "metadata": {},
   "source": [
    "## Running Python modules from the command line"
   ]
  },
  {
   "cell_type": "markdown",
   "metadata": {},
   "source": [
    "## Static Code Analysis"
   ]
  },
  {
   "cell_type": "markdown",
   "metadata": {},
   "source": [
    "## PIP Installs Packages"
   ]
  },
  {
   "cell_type": "markdown",
   "metadata": {},
   "source": [
    "## Virtualenv to encapsulated your environment"
   ]
  },
  {
   "cell_type": "markdown",
   "metadata": {},
   "source": [
    "## PDB for debugging"
   ]
  },
  {
   "cell_type": "markdown",
   "metadata": {},
   "source": [
    "## Docstrings to help your users"
   ]
  },
  {
   "cell_type": "markdown",
   "metadata": {},
   "source": [
    "# Slightly More Advanced Topics"
   ]
  },
  {
   "cell_type": "markdown",
   "metadata": {},
   "source": [
    "## Iterators and Generators"
   ]
  },
  {
   "cell_type": "code",
   "execution_count": null,
   "metadata": {
    "collapsed": false
   },
   "outputs": [],
   "source": [
    "class SquareIterator:\n",
    "    def __init__(self, maximum):\n",
    "        self.n = 1\n",
    "        self.max = maximum\n",
    "    \n",
    "    def __iter__(self):\n",
    "        return self\n",
    "\n",
    "    def __next__(self):\n",
    "        if self.n <= self.max:\n",
    "            sqr = self.n * self.n\n",
    "            self.n += 1\n",
    "            return sqr\n",
    "        else:\n",
    "            raise StopIteration\n",
    "\n",
    "for sqr in SquareIterator(5):\n",
    "    print(sqr)"
   ]
  },
  {
   "cell_type": "code",
   "execution_count": null,
   "metadata": {
    "collapsed": false
   },
   "outputs": [],
   "source": [
    "def square_generator(n):\n",
    "    base = 1\n",
    "    while base <= n:\n",
    "        yield base * base\n",
    "        base += 1\n",
    "\n",
    "for sqr in square_generator(5):\n",
    "    print(sqr)"
   ]
  },
  {
   "cell_type": "markdown",
   "metadata": {},
   "source": [
    "## Comprehensions"
   ]
  },
  {
   "cell_type": "code",
   "execution_count": null,
   "metadata": {
    "collapsed": false
   },
   "outputs": [],
   "source": [
    "squares = [i**2 for i in range(1, 6)]\n",
    "print(squares)\n",
    "\n",
    "even_squares = [i**2 for i in range(1, 6) if i**2 % 2 == 0]\n",
    "print(even_squares)\n",
    "\n",
    "odd_or_bust = [i**2 if i**2 % 2 == 1 else \"bust!\" for i in range(1, 6)]\n",
    "print(odd_or_bust)"
   ]
  },
  {
   "cell_type": "code",
   "execution_count": null,
   "metadata": {
    "collapsed": false
   },
   "outputs": [],
   "source": [
    "techtalks = ((\"Mike\", 1000), (\"Vijay\", 1), (\"Kyle\", 1), (\"Matt\", 1))  # Name/TechTalks given\n",
    "\n",
    "# create a dictionary for amount of tech talks given\n",
    "techdict = {k: v for k, v in techtalks}\n",
    "\n",
    "print(techdict)\n",
    "\n",
    "nomike = {k: v for k, v in techtalks if k != \"Mike\"}\n",
    "\n",
    "print(nomike)"
   ]
  },
  {
   "cell_type": "code",
   "execution_count": null,
   "metadata": {
    "collapsed": false
   },
   "outputs": [],
   "source": [
    "smoothie1 = (\"apple\", \"peach\", \"mango\")  # Monday's smoothie\n",
    "smoothie2 = (\"pear\", \"apple\", \"peach\")  # Tueday's smoothie\n",
    "\n",
    "# What fruits have you eaten this week?\n",
    "fruits = {f for f in smoothie1 + smoothie2}\n",
    "\n",
    "print(fruits)\n",
    "\n",
    "# What fruits start with a 'p'\n",
    "pfruits = {f for f in smoothie1 + smoothie2 if f.startswith(\"p\")}\n",
    "\n",
    "print(pfruits)"
   ]
  },
  {
   "cell_type": "markdown",
   "metadata": {},
   "source": [
    "## Functional Programming"
   ]
  },
  {
   "cell_type": "markdown",
   "metadata": {},
   "source": [
    "## Closures"
   ]
  },
  {
   "cell_type": "markdown",
   "metadata": {},
   "source": [
    "## Decorators"
   ]
  },
  {
   "cell_type": "code",
   "execution_count": null,
   "metadata": {
    "collapsed": false
   },
   "outputs": [],
   "source": [
    "# Returning a function\n",
    "def give_me_hello_world():\n",
    "    def hello():\n",
    "        print(\"Hello World!\")\n",
    "    return hello\n",
    "\n",
    "f = give_me_hello_world()\n",
    "f()"
   ]
  },
  {
   "cell_type": "code",
   "execution_count": null,
   "metadata": {
    "collapsed": false
   },
   "outputs": [],
   "source": [
    "# Passing a function to a function\n",
    "def wrap_it(f):\n",
    "    print(\"Going to run your function\")\n",
    "    f()\n",
    "    print(\"Done running your function\")\n",
    "\n",
    "def my_func():\n",
    "    print(\"Running my_func()\")\n",
    "\n",
    "wrap_it(my_func)"
   ]
  },
  {
   "cell_type": "code",
   "execution_count": null,
   "metadata": {
    "collapsed": false
   },
   "outputs": [],
   "source": [
    "# Passing a function and returning a new one\n",
    "def wrap_in_try(f):\n",
    "    def safe_func():\n",
    "        try:\n",
    "            f()\n",
    "        except:\n",
    "            print(\"An exception was raised\")\n",
    "    return safe_func\n",
    "\n",
    "# You wrote this function\n",
    "def bad_func():\n",
    "    int(\"Hello\")\n",
    "\n",
    "# Normal way of decorating the function\n",
    "good_func = wrap_in_try(bad_func)\n",
    "good_func()\n",
    "\n",
    "\n",
    "\n",
    "\n",
    "\n",
    "# Cool way to decorate the function\n",
    "\n",
    "@wrap_in_try\n",
    "def bad_func2():\n",
    "    int(\"Hello\")\n",
    "\n",
    "bad_func2()"
   ]
  },
  {
   "cell_type": "markdown",
   "metadata": {},
   "source": [
    "## Threading: and how it only kinda exists"
   ]
  }
 ],
 "metadata": {
  "kernelspec": {
   "display_name": "Python 3",
   "language": "python",
   "name": "python3"
  },
  "language_info": {
   "codemirror_mode": {
    "name": "ipython",
    "version": 3
   },
   "file_extension": ".py",
   "mimetype": "text/x-python",
   "name": "python",
   "nbconvert_exporter": "python",
   "pygments_lexer": "ipython3",
   "version": "3.4.3"
  }
 },
 "nbformat": 4,
 "nbformat_minor": 0
}
