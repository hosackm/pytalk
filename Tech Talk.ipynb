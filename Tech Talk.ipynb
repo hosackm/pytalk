{
 "cells": [
  {
   "cell_type": "markdown",
   "metadata": {
    "slideshow": {
     "slide_type": "slide"
    }
   },
   "source": [
    "# Productive Python Programming for C Developers"
   ]
  },
  {
   "cell_type": "markdown",
   "metadata": {
    "slideshow": {
     "slide_type": "slide"
    }
   },
   "source": [
    "# Fundemental Differences From C"
   ]
  },
  {
   "cell_type": "markdown",
   "metadata": {
    "slideshow": {
     "slide_type": "slide"
    }
   },
   "source": [
    "## Data Types"
   ]
  },
  {
   "cell_type": "code",
   "execution_count": 74,
   "metadata": {
    "collapsed": false,
    "slideshow": {
     "slide_type": "subslide"
    }
   },
   "outputs": [
    {
     "name": "stdout",
     "output_type": "stream",
     "text": [
      "[2, 'three', 4, 5]\n",
      "4\n"
     ]
    }
   ],
   "source": [
    "# Lists are containers for objects. They are mutable so they can have objects\n",
    "# appended to them or removed from them.\n",
    "\n",
    "alist = [1, 2, \"three\", 4]\n",
    "alist.append(5)\n",
    "alist.remove(1)\n",
    "\n",
    "print(alist)\n",
    "print(alist[2])"
   ]
  },
  {
   "cell_type": "code",
   "execution_count": 75,
   "metadata": {
    "collapsed": false,
    "slideshow": {
     "slide_type": "subslide"
    }
   },
   "outputs": [
    {
     "name": "stdout",
     "output_type": "stream",
     "text": [
      "('hello', 13, True)\n"
     ]
    }
   ],
   "source": [
    "# Tuples are like lists in that they contain multiple objects.\n",
    "# They are immutable so they can not be modified after they are created.\n",
    "\n",
    "atup = (\"hello\", 13, True)\n",
    "\n",
    "print(atup)"
   ]
  },
  {
   "cell_type": "code",
   "execution_count": 76,
   "metadata": {
    "collapsed": false,
    "slideshow": {
     "slide_type": "subslide"
    }
   },
   "outputs": [
    {
     "name": "stdout",
     "output_type": "stream",
     "text": [
      "{1, 2} {1, 2, 3, 4, 5, 6}\n",
      "{42}\n"
     ]
    }
   ],
   "source": [
    "# A set is like the mathematical term set.  Only one instance of an object can exist in it.\n",
    "# Lots of operations like union, difference, etc.\n",
    "\n",
    "set1 = {1, 2, 3, 4}\n",
    "set2 = {3, 4, 5}\n",
    "\n",
    "set2.add(6)\n",
    "\n",
    "diff = set1.difference(set2)\n",
    "union = set1.union(set2)\n",
    "\n",
    "print(diff, union)\n",
    "print({42, 42, 42, 42, 42, 42, 42, 42, 42})"
   ]
  },
  {
   "cell_type": "code",
   "execution_count": 77,
   "metadata": {
    "collapsed": false,
    "slideshow": {
     "slide_type": "subslide"
    }
   },
   "outputs": [
    {
     "name": "stdout",
     "output_type": "stream",
     "text": [
      "0\n",
      "None No basketball hoop :(\n",
      "13\n"
     ]
    }
   ],
   "source": [
    "# Dictionaries are a set of key and value pairs\n",
    "# Use these when you want to look up a value by a key\n",
    "# and don't want to store the index of each item.\n",
    "# Or if you want a linear time retrieval object.\n",
    "\n",
    "furniture = {\"chairs\": 12, \"table\": 1, \"bear-rug\": 0}\n",
    "\n",
    "print(furniture[\"bear-rug\"])\n",
    "print(furniture.get(\"basketballhoop\"), \"No basketball hoop :(\")\n",
    "\n",
    "furniture[\"chairs\"] += 1\n",
    "\n",
    "print(furniture[\"chairs\"])"
   ]
  },
  {
   "cell_type": "code",
   "execution_count": 78,
   "metadata": {
    "collapsed": false,
    "slideshow": {
     "slide_type": "subslide"
    }
   },
   "outputs": [
    {
     "name": "stdout",
     "output_type": "stream",
     "text": [
      "lists\n",
      "1\n",
      "2\n",
      "3\n",
      "4\n",
      "tuples\n",
      "1\n",
      "2\n",
      "3\n",
      "4\n",
      "sets\n",
      "1\n",
      "2\n",
      "3\n",
      "4\n",
      "dictionaries\n",
      "three\n",
      "one\n",
      "two\n"
     ]
    }
   ],
   "source": [
    "# For loops on the big four data types\n",
    "\n",
    "print(\"lists\")\n",
    "for i in [1, 2, 3, 4]:\n",
    "    print(i)\n",
    "\n",
    "print(\"tuples\")\n",
    "for i in (1, 2, 3, 4):\n",
    "    print(i)\n",
    "\n",
    "print(\"sets\")\n",
    "for i in {1, 2, 3, 4}:\n",
    "    print(i)\n",
    "\n",
    "print(\"dictionaries\")  # Not ordered!\n",
    "for key in {\"one\": 1, \"two\": 2, \"three\": 3}:\n",
    "    print(key)"
   ]
  },
  {
   "cell_type": "code",
   "execution_count": 79,
   "metadata": {
    "collapsed": false,
    "slideshow": {
     "slide_type": "subslide"
    }
   },
   "outputs": [
    {
     "name": "stdout",
     "output_type": "stream",
     "text": [
      "index: 0 value: a\n",
      "index: 1 value: b\n",
      "index: 2 value: c\n",
      "index: 3 value: d\n",
      "index: 0 value: a\n",
      "index: 1 value: b\n",
      "index: 2 value: c\n",
      "index: 3 value: d\n",
      "You need 3 apples\n",
      "You need 4 lemons\n",
      "You need 1 sugar\n",
      "You need 3 apples\n",
      "You need 4 lemons\n",
      "You need 1 sugar\n"
     ]
    }
   ],
   "source": [
    "# for loop tips\n",
    "# =============\n",
    "letters = [\"a\", \"b\", \"c\", \"d\"]\n",
    "\n",
    "# if you need the index and value in a list, set, or tuple\n",
    "# avoid\n",
    "i = 0\n",
    "for val in letters:\n",
    "    print(\"index:\", i, \"value:\", val)\n",
    "    i += 1\n",
    "\n",
    "# use enumerate\n",
    "for i, val in enumerate(letters):\n",
    "    print(\"index:\", i, \"value:\", val)\n",
    "    \n",
    "\n",
    "grocerylist = {\"apples\": 3, \"lemons\":4, \"sugar\": 1}\n",
    "\n",
    "# if you need to key and value\n",
    "\n",
    "# avoid using [] inside for loop\n",
    "for itemname in grocerylist:\n",
    "    print(\"You need {} {}\".format(grocerylist[itemname], itemname))\n",
    "\n",
    "# use .items()\n",
    "for item, quantity in grocerylist.items():\n",
    "    print(\"You need {} {}\".format(quantity, item))"
   ]
  },
  {
   "cell_type": "markdown",
   "metadata": {
    "slideshow": {
     "slide_type": "slide"
    }
   },
   "source": [
    "## Memory Model"
   ]
  },
  {
   "cell_type": "code",
   "execution_count": 80,
   "metadata": {
    "collapsed": false,
    "slideshow": {
     "slide_type": "subslide"
    }
   },
   "outputs": [
    {
     "name": "stdout",
     "output_type": "stream",
     "text": [
      "4316279072 4316279072 4316279072\n",
      "4357508488 4316279072\n"
     ]
    }
   ],
   "source": [
    "# Not the same as C.  Everything is a Python object (id, value, type)\n",
    "# Literals on right hand side are evaluated and the aliases\n",
    "# ('x' 'y' or 'z') are assigned references to them.\n",
    "\n",
    "x = 42\n",
    "y = x\n",
    "z = 42\n",
    "\n",
    "# if a literal already exists a reference is made to it.\n",
    "# No new object needs to be created. (immutable at least)\n",
    "print(id(x), id(y), id(z))\n",
    "\n",
    "alist = [1, 2, x, 9]\n",
    "print(id(alist), id(alist[2]))"
   ]
  },
  {
   "cell_type": "code",
   "execution_count": 142,
   "metadata": {
    "collapsed": false,
    "slideshow": {
     "slide_type": "subslide"
    }
   },
   "outputs": [
    {
     "name": "stdout",
     "output_type": "stream",
     "text": [
      "123\n",
      "124\n"
     ]
    }
   ],
   "source": [
    "# Ref Counting\n",
    "from sys import getrefcount as grf\n",
    "\n",
    "a = 9\n",
    "print(grf(a))\n",
    "b = 9\n",
    "print(grf(a))"
   ]
  },
  {
   "cell_type": "code",
   "execution_count": 82,
   "metadata": {
    "collapsed": false,
    "slideshow": {
     "slide_type": "subslide"
    }
   },
   "outputs": [
    {
     "name": "stdout",
     "output_type": "stream",
     "text": [
      "[1000, 2, 3, 4]\n",
      "[1, 2, 3, 4]\n"
     ]
    }
   ],
   "source": [
    "# Assigning to containers uses references.\n",
    "list1 = [1, 2, 3, 4]\n",
    "list2 = list1\n",
    "list1[0] = 1000\n",
    "\n",
    "print(list2)\n",
    "\n",
    "\n",
    "# Use [:] or the copy module from the standard library for copying values between containers\n",
    "list1 = [1, 2, 3, 4]\n",
    "list2 = list1[:]\n",
    "list1[0] = 1000\n",
    "\n",
    "print(list2)"
   ]
  },
  {
   "cell_type": "markdown",
   "metadata": {
    "slideshow": {
     "slide_type": "slide"
    }
   },
   "source": [
    "## Boolean Operations (==, is, in)"
   ]
  },
  {
   "cell_type": "code",
   "execution_count": 83,
   "metadata": {
    "collapsed": false,
    "slideshow": {
     "slide_type": "subslide"
    }
   },
   "outputs": [
    {
     "name": "stdout",
     "output_type": "stream",
     "text": [
      "True False True True\n",
      "True\n",
      "True\n"
     ]
    }
   ],
   "source": [
    "# Same comparison operators\n",
    "x = 6\n",
    "print(x < 10, x > 10, x == 6, x != 10)\n",
    "\n",
    "# But you can them together\n",
    "print(2 < x < 8)\n",
    "print(2 != x == 6)"
   ]
  },
  {
   "cell_type": "code",
   "execution_count": 84,
   "metadata": {
    "collapsed": false,
    "slideshow": {
     "slide_type": "subslide"
    }
   },
   "outputs": [
    {
     "name": "stdout",
     "output_type": "stream",
     "text": [
      "True\n",
      "True\n",
      "True\n",
      "True\n",
      "True\n",
      "True\n",
      "['pa', 'pb', 'pc', 'pd']\n"
     ]
    }
   ],
   "source": [
    "# 0 is the only falsy statement in C\n",
    "# In Python all the following statements evaluate to False\n",
    "\n",
    "falses = ([], (), {}, 0, False, \"\")\n",
    "for f in falses:\n",
    "    print(not f)\n",
    "\n",
    "# Which means\n",
    "syncwords = [\"pa\", \"pb\", \"pc\", \"pd\"]\n",
    "\n",
    "# Don't write: if len(syncwords) > 0:\n",
    "if syncwords:\n",
    "    print(syncwords)"
   ]
  },
  {
   "cell_type": "code",
   "execution_count": 85,
   "metadata": {
    "collapsed": false,
    "slideshow": {
     "slide_type": "subslide"
    }
   },
   "outputs": [
    {
     "name": "stdout",
     "output_type": "stream",
     "text": [
      "Hello\n"
     ]
    }
   ],
   "source": [
    "# No ternary operator.  \n",
    "# int x = statement : 1 ? 0;\n",
    "\n",
    "greeting = \"Goodbye\" if False else \"Hello\"\n",
    "print(greeting)"
   ]
  },
  {
   "cell_type": "code",
   "execution_count": 86,
   "metadata": {
    "collapsed": false,
    "slideshow": {
     "slide_type": "subslide"
    }
   },
   "outputs": [
    {
     "name": "stdout",
     "output_type": "stream",
     "text": [
      "True\n",
      "True\n",
      "True\n",
      "False\n"
     ]
    }
   ],
   "source": [
    "# You can compare values by their id using 'is'\n",
    "\n",
    "is_able1, is_able2, is_able3 = None, True, False\n",
    "\n",
    "print(is_able1 is None)\n",
    "print(is_able2 is True)\n",
    "print(is_able3 is False)\n",
    "\n",
    "# Don't use it on other objects\n",
    "\n",
    "x = 123456789\n",
    "y = 123456788 + 1\n",
    "print(x is y)"
   ]
  },
  {
   "cell_type": "markdown",
   "metadata": {
    "slideshow": {
     "slide_type": "slide"
    }
   },
   "source": [
    "## Scope of variables"
   ]
  },
  {
   "cell_type": "code",
   "execution_count": 102,
   "metadata": {
    "collapsed": false,
    "slideshow": {
     "slide_type": "subslide"
    }
   },
   "outputs": [
    {
     "name": "stdout",
     "output_type": "stream",
     "text": [
      "LEVEL 1\n",
      "LEVEL 2\n",
      "IM A GLOBAL VAR\n"
     ]
    }
   ],
   "source": [
    "GLOBAL_VAR = \"IM A GLOBAL VAR\"\n",
    "\n",
    "def level1_function():\n",
    "    LEVEL_1_VAR = \"LEVEL 1\"\n",
    "    # GLOBAL_VAR and LEVEL_1_VAR in scope\n",
    "\n",
    "    def level2_function():\n",
    "        LEVEL_2_VAR = \"LEVEL 2\"\n",
    "        # GLOBAL_VAR, LEVEL_1_VAR, and LEVEL_2_VAR in scope\n",
    "        \n",
    "        print(LEVEL_1_VAR)\n",
    "        print(LEVEL_2_VAR)\n",
    "        print(GLOBAL_VAR)\n",
    "    \n",
    "    level2_function()\n",
    "\n",
    "level1_function()"
   ]
  },
  {
   "cell_type": "markdown",
   "metadata": {
    "slideshow": {
     "slide_type": "slide"
    }
   },
   "source": [
    "## Error Handling"
   ]
  },
  {
   "cell_type": "code",
   "execution_count": 88,
   "metadata": {
    "collapsed": false,
    "slideshow": {
     "slide_type": "subslide"
    }
   },
   "outputs": [
    {
     "name": "stdout",
     "output_type": "stream",
     "text": [
      "BOOM!\n"
     ]
    }
   ],
   "source": [
    "try:\n",
    "    int(\"dolby\")\n",
    "except:\n",
    "    print(\"BOOM!\")"
   ]
  },
  {
   "cell_type": "code",
   "execution_count": 89,
   "metadata": {
    "collapsed": false,
    "slideshow": {
     "slide_type": "subslide"
    }
   },
   "outputs": [
    {
     "name": "stdout",
     "output_type": "stream",
     "text": [
      "Don't divide by 0 you dumb-dumb\n"
     ]
    }
   ],
   "source": [
    "# The simplest try/except\n",
    "\n",
    "try:\n",
    "    100 / 0\n",
    "except ZeroDivisionError:\n",
    "    print(\"Don't divide by 0 you dumb-dumb\")"
   ]
  },
  {
   "cell_type": "code",
   "execution_count": 90,
   "metadata": {
    "collapsed": false,
    "slideshow": {
     "slide_type": "subslide"
    }
   },
   "outputs": [
    {
     "name": "stdout",
     "output_type": "stream",
     "text": [
      "Name error was raised\n"
     ]
    }
   ],
   "source": [
    "# You can catch multiple exceptions at a time (much like a switch)\n",
    "\n",
    "from random import choice\n",
    "def f():\n",
    "    raise choice((NameError, ValueError))\n",
    "\n",
    "try:\n",
    "    f()\n",
    "except NameError:\n",
    "    print(\"Name error was raised\")\n",
    "except ValueError:\n",
    "    print(\"Value error was raised\")"
   ]
  },
  {
   "cell_type": "code",
   "execution_count": 91,
   "metadata": {
    "collapsed": false,
    "slideshow": {
     "slide_type": "subslide"
    }
   },
   "outputs": [
    {
     "name": "stdout",
     "output_type": "stream",
     "text": [
      "Ya, it worked...\n"
     ]
    }
   ],
   "source": [
    "# You can use an else if an exception wasn't raised\n",
    "\n",
    "try:\n",
    "    int(\"3\")\n",
    "except:\n",
    "    print(\"BOOM!\")\n",
    "else:\n",
    "    print(\"Ya, it worked...\")"
   ]
  },
  {
   "cell_type": "code",
   "execution_count": 92,
   "metadata": {
    "collapsed": false,
    "slideshow": {
     "slide_type": "subslide"
    }
   },
   "outputs": [
    {
     "name": "stdout",
     "output_type": "stream",
     "text": [
      "BOOM!\n",
      "it's all over\n"
     ]
    }
   ],
   "source": [
    "# Use finally to run no matter what happened\n",
    "\n",
    "try:\n",
    "    int(\"hello\")\n",
    "except:\n",
    "    print(\"BOOM!\")\n",
    "finally:\n",
    "    print(\"it's all over\")"
   ]
  },
  {
   "cell_type": "code",
   "execution_count": 117,
   "metadata": {
    "collapsed": false,
    "slideshow": {
     "slide_type": "subslide"
    }
   },
   "outputs": [
    {
     "ename": "AttributeError",
     "evalue": "",
     "output_type": "error",
     "traceback": [
      "\u001b[0;31m---------------------------------------------------------------------------\u001b[0m",
      "\u001b[0;31mAttributeError\u001b[0m                            Traceback (most recent call last)",
      "\u001b[0;32m<ipython-input-117-9bb4b154b550>\u001b[0m in \u001b[0;36m<module>\u001b[0;34m()\u001b[0m\n\u001b[1;32m      5\u001b[0m \u001b[0;34m\u001b[0m\u001b[0m\n\u001b[1;32m      6\u001b[0m \u001b[0;32mtry\u001b[0m\u001b[0;34m:\u001b[0m\u001b[0;34m\u001b[0m\u001b[0m\n\u001b[0;32m----> 7\u001b[0;31m     \u001b[0mf\u001b[0m\u001b[0;34m(\u001b[0m\u001b[0;34m)\u001b[0m\u001b[0;34m\u001b[0m\u001b[0m\n\u001b[0m\u001b[1;32m      8\u001b[0m \u001b[0;32mexcept\u001b[0m \u001b[0mNameError\u001b[0m\u001b[0;34m:\u001b[0m\u001b[0;34m\u001b[0m\u001b[0m\n\u001b[1;32m      9\u001b[0m     \u001b[0mprint\u001b[0m\u001b[0;34m(\u001b[0m\u001b[0;34m\"Name error was raised\"\u001b[0m\u001b[0;34m)\u001b[0m\u001b[0;34m\u001b[0m\u001b[0m\n",
      "\u001b[0;32m<ipython-input-117-9bb4b154b550>\u001b[0m in \u001b[0;36mf\u001b[0;34m()\u001b[0m\n\u001b[1;32m      2\u001b[0m \u001b[0;32mfrom\u001b[0m \u001b[0mrandom\u001b[0m \u001b[0;32mimport\u001b[0m \u001b[0mchoice\u001b[0m\u001b[0;34m\u001b[0m\u001b[0m\n\u001b[1;32m      3\u001b[0m \u001b[0;32mdef\u001b[0m \u001b[0mf\u001b[0m\u001b[0;34m(\u001b[0m\u001b[0;34m)\u001b[0m\u001b[0;34m:\u001b[0m\u001b[0;34m\u001b[0m\u001b[0m\n\u001b[0;32m----> 4\u001b[0;31m     \u001b[0;32mraise\u001b[0m \u001b[0mchoice\u001b[0m\u001b[0;34m(\u001b[0m\u001b[0;34m(\u001b[0m\u001b[0mNameError\u001b[0m\u001b[0;34m,\u001b[0m \u001b[0mValueError\u001b[0m\u001b[0;34m,\u001b[0m \u001b[0mAttributeError\u001b[0m\u001b[0;34m)\u001b[0m\u001b[0;34m)\u001b[0m\u001b[0;34m\u001b[0m\u001b[0m\n\u001b[0m\u001b[1;32m      5\u001b[0m \u001b[0;34m\u001b[0m\u001b[0m\n\u001b[1;32m      6\u001b[0m \u001b[0;32mtry\u001b[0m\u001b[0;34m:\u001b[0m\u001b[0;34m\u001b[0m\u001b[0m\n",
      "\u001b[0;31mAttributeError\u001b[0m: "
     ]
    }
   ],
   "source": [
    "# What if you don't handle a specific Exception\n",
    "from random import choice\n",
    "def f():\n",
    "    raise choice((NameError, ValueError, AttributeError))\n",
    "\n",
    "try:\n",
    "    f()\n",
    "except NameError:\n",
    "    print(\"Name error was raised\")\n",
    "except ValueError:\n",
    "    print(\"Value error was raised\")"
   ]
  },
  {
   "cell_type": "code",
   "execution_count": 116,
   "metadata": {
    "collapsed": false,
    "slideshow": {
     "slide_type": "subslide"
    }
   },
   "outputs": [
    {
     "name": "stdout",
     "output_type": "stream",
     "text": [
      "Handling ValueError\n"
     ]
    }
   ],
   "source": [
    "# Be careful when subclassing Exceptions\n",
    "class MyCustomException(ValueError): pass\n",
    "\n",
    "try:\n",
    "    int(\"dolby\")\n",
    "except ValueError:\n",
    "    print(\"Handling ValueError\")\n",
    "except MyCustomException:\n",
    "    print(\"Handling MyException\")"
   ]
  },
  {
   "cell_type": "markdown",
   "metadata": {
    "slideshow": {
     "slide_type": "slide"
    }
   },
   "source": [
    "## Magic Methods & Dunderscoring"
   ]
  },
  {
   "cell_type": "code",
   "execution_count": 95,
   "metadata": {
    "collapsed": false,
    "slideshow": {
     "slide_type": "subslide"
    }
   },
   "outputs": [
    {
     "name": "stdout",
     "output_type": "stream",
     "text": [
      "I'm a DunderZample. [1, 2, 3, 4, 5]\n",
      "True\n",
      "I'm a DunderZample. [1520, 2, 3, 4, 5, 65536]\n"
     ]
    }
   ],
   "source": [
    "# Python will attempt to call certain methods on your Classes.\n",
    "# They are called dunderscore methods because they begin and end with __\n",
    "\n",
    "class DunderZample():\n",
    "    def __init__(self):\n",
    "        self.value = 12345\n",
    "        self.list_of_values = [1, 2, 3, 4, 5]\n",
    "    \n",
    "    def __eq__(self, othervalue):\n",
    "        return self.value == othervalue\n",
    "\n",
    "    def __str__(self):\n",
    "        return \"I'm a DunderZample. {}\".format(self.list_of_values)\n",
    "    \n",
    "    def __setitem__(self, index, value):\n",
    "        self.list_of_values[index] = value\n",
    "    \n",
    "    def __add__(self, value):\n",
    "        return self.list_of_values.append(value)\n",
    "\n",
    "example = DunderZample()\n",
    "print(example)\n",
    "print(example == 12345)\n",
    "\n",
    "example[0] = 1520\n",
    "example + 65536\n",
    "print(example)"
   ]
  },
  {
   "cell_type": "markdown",
   "metadata": {
    "slideshow": {
     "slide_type": "slide"
    }
   },
   "source": [
    "## Coding Safely '*with*' Context Managers"
   ]
  },
  {
   "cell_type": "code",
   "execution_count": 96,
   "metadata": {
    "collapsed": false,
    "slideshow": {
     "slide_type": "subslide"
    }
   },
   "outputs": [
    {
     "name": "stdout",
     "output_type": "stream",
     "text": [
      "Entering\n",
      "Inside with block\n",
      "Exiting\n"
     ]
    }
   ],
   "source": [
    "# To ensure that something is performed later we use with\n",
    "# A context manager is a class that implements __enter__ and __exit__\n",
    "class Ctx():\n",
    "    def __enter__(self):\n",
    "        print(\"Entering\")\n",
    "\n",
    "    def __exit__(self, *args):\n",
    "        print(\"Exiting\")\n",
    "\n",
    "with Ctx() as example:\n",
    "    print(\"Inside with block\")"
   ]
  },
  {
   "cell_type": "markdown",
   "metadata": {
    "slideshow": {
     "slide_type": "slide"
    }
   },
   "source": [
    "## Function Arguments and Returned Values"
   ]
  },
  {
   "cell_type": "code",
   "execution_count": 100,
   "metadata": {
    "collapsed": false,
    "slideshow": {
     "slide_type": "subslide"
    }
   },
   "outputs": [
    {
     "name": "stdout",
     "output_type": "stream",
     "text": [
      "Hello Matt! You are 28 years old.\n"
     ]
    }
   ],
   "source": [
    "# You can have positional arguments\n",
    "\n",
    "def func(name, age):\n",
    "    print(\"Hello {name}! You are {age} years old.\".format(\n",
    "            name=name, age=age))\n",
    "\n",
    "func(\"Matt\", 28)"
   ]
  },
  {
   "cell_type": "code",
   "execution_count": 118,
   "metadata": {
    "collapsed": false,
    "slideshow": {
     "slide_type": "subslide"
    }
   },
   "outputs": [
    {
     "name": "stdout",
     "output_type": "stream",
     "text": [
      "Hello Matt! You are 28 years old. You are a student.\n"
     ]
    }
   ],
   "source": [
    "# You can have keyword/default values\n",
    "def keyword_func(name=\"Matt\", age=28, is_student=False):\n",
    "    s = \"are\" if is_student else \"are not\"\n",
    "    print(\"Hello {name}! You are {age} years old. You {s} a student.\".format(\n",
    "            name=name, age=age, s=s))\n",
    "\n",
    "keyword_func(\"Matt\", 28, True)"
   ]
  },
  {
   "cell_type": "code",
   "execution_count": 119,
   "metadata": {
    "collapsed": false,
    "slideshow": {
     "slide_type": "subslide"
    }
   },
   "outputs": [
    {
     "name": "stdout",
     "output_type": "stream",
     "text": [
      "Hello Matt! You are 28 years old. You are a student.\n"
     ]
    }
   ],
   "source": [
    "# You can have a mixture\n",
    "\n",
    "def ordered_func(name, age, is_student=True):\n",
    "    s = \"are\" if is_student else \"are not\"\n",
    "    print(\"Hello {name}! You are {age} years old. You {s} a student.\".format(\n",
    "            name=name, age=age, s=s))\n",
    "\n",
    "#def ordered_func(name, is_student=True, age): would throw an error.\n",
    "ordered_func(\"Matt\", 28, True)"
   ]
  },
  {
   "cell_type": "code",
   "execution_count": 120,
   "metadata": {
    "collapsed": false,
    "slideshow": {
     "slide_type": "subslide"
    }
   },
   "outputs": [
    {
     "name": "stdout",
     "output_type": "stream",
     "text": [
      "ARGS: ('Matt', 28, True)\n",
      "KWARGS {}\n",
      "Hello Matt! You are 28 years old. You are a student.\n"
     ]
    }
   ],
   "source": [
    "# You can also have generic arguments\n",
    "\n",
    "def generic_func(*args, **kwargs):\n",
    "    print(\"ARGS:\", args)\n",
    "    print(\"KWARGS\", kwargs)\n",
    "    name, age, is_student = args\n",
    "    \n",
    "    s = \"are\" if is_student else \"are not\"\n",
    "    print(\"Hello {name}! You are {age} years old. You {s} a student.\".format(\n",
    "            name=name, age=age, s=s))\n",
    "\n",
    "generic_func(\"Matt\", 28, True)"
   ]
  },
  {
   "cell_type": "markdown",
   "metadata": {
    "slideshow": {
     "slide_type": "slide"
    }
   },
   "source": [
    "## The import statement"
   ]
  },
  {
   "cell_type": "markdown",
   "metadata": {
    "slideshow": {
     "slide_type": "slide"
    }
   },
   "source": [
    "# Python Tools You Should Use"
   ]
  },
  {
   "cell_type": "markdown",
   "metadata": {
    "slideshow": {
     "slide_type": "slide"
    }
   },
   "source": [
    "## Running Python modules from the command line"
   ]
  },
  {
   "cell_type": "markdown",
   "metadata": {
    "slideshow": {
     "slide_type": "slide"
    }
   },
   "source": [
    "## Static Code Analysis"
   ]
  },
  {
   "cell_type": "markdown",
   "metadata": {
    "slideshow": {
     "slide_type": "slide"
    }
   },
   "source": [
    "## PIP Installs Packages"
   ]
  },
  {
   "cell_type": "markdown",
   "metadata": {
    "slideshow": {
     "slide_type": "slide"
    }
   },
   "source": [
    "## Virtualenv to encapsulate your environment"
   ]
  },
  {
   "cell_type": "markdown",
   "metadata": {
    "slideshow": {
     "slide_type": "slide"
    }
   },
   "source": [
    "## PDB for debugging"
   ]
  },
  {
   "cell_type": "markdown",
   "metadata": {
    "slideshow": {
     "slide_type": "slide"
    }
   },
   "source": [
    "## Docstrings to help your users"
   ]
  },
  {
   "cell_type": "markdown",
   "metadata": {
    "slideshow": {
     "slide_type": "slide"
    }
   },
   "source": [
    "# Slightly More Advanced Topics"
   ]
  },
  {
   "cell_type": "markdown",
   "metadata": {
    "slideshow": {
     "slide_type": "slide"
    }
   },
   "source": [
    "## Iterators and Generators"
   ]
  },
  {
   "cell_type": "code",
   "execution_count": 137,
   "metadata": {
    "collapsed": false,
    "slideshow": {
     "slide_type": "subslide"
    }
   },
   "outputs": [
    {
     "name": "stdout",
     "output_type": "stream",
     "text": [
      "1\n",
      "4\n",
      "9\n",
      "16\n",
      "25\n"
     ]
    }
   ],
   "source": [
    "class SquareIterator:\n",
    "    def __init__(self, maximum):\n",
    "        self.n = 1\n",
    "        self.max = maximum\n",
    "    \n",
    "    def __iter__(self):\n",
    "        return self\n",
    "\n",
    "    def __next__(self):\n",
    "        if self.n <= self.max:\n",
    "            sqr = self.n * self.n\n",
    "            self.n += 1\n",
    "            return sqr\n",
    "        else:\n",
    "            raise StopIteration\n",
    "\n",
    "for sqr in SquareIterator(5):\n",
    "    print(sqr)"
   ]
  },
  {
   "cell_type": "code",
   "execution_count": 122,
   "metadata": {
    "collapsed": false,
    "slideshow": {
     "slide_type": "subslide"
    }
   },
   "outputs": [
    {
     "name": "stdout",
     "output_type": "stream",
     "text": [
      "1\n",
      "4\n",
      "9\n",
      "16\n",
      "25\n"
     ]
    }
   ],
   "source": [
    "def square_generator(n):\n",
    "    base = 1\n",
    "    while base <= n:\n",
    "        yield base * base\n",
    "        base += 1\n",
    "\n",
    "for sqr in square_generator(5):\n",
    "    print(sqr)"
   ]
  },
  {
   "cell_type": "markdown",
   "metadata": {
    "slideshow": {
     "slide_type": "slide"
    }
   },
   "source": [
    "## Comprehensions"
   ]
  },
  {
   "cell_type": "code",
   "execution_count": 123,
   "metadata": {
    "collapsed": false,
    "slideshow": {
     "slide_type": "subslide"
    }
   },
   "outputs": [
    {
     "name": "stdout",
     "output_type": "stream",
     "text": [
      "[1, 4, 9, 16, 25]\n",
      "[4, 16]\n",
      "[1, 'bust!', 9, 'bust!', 25]\n"
     ]
    }
   ],
   "source": [
    "squares = [i**2 for i in range(1, 6)]\n",
    "print(squares)\n",
    "\n",
    "even_squares = [i**2 for i in range(1, 6) if i**2 % 2 == 0]\n",
    "print(even_squares)\n",
    "\n",
    "odd_or_bust = [i**2 if i**2 % 2 == 1 else \"bust!\" for i in range(1, 6)]\n",
    "print(odd_or_bust)"
   ]
  },
  {
   "cell_type": "code",
   "execution_count": 99,
   "metadata": {
    "collapsed": false,
    "slideshow": {
     "slide_type": "subslide"
    }
   },
   "outputs": [
    {
     "name": "stdout",
     "output_type": "stream",
     "text": [
      "{'Vijay': 1, 'Matt': 1, 'Mike': 1000, 'Kyle': 1}\n",
      "{'Vijay': 1, 'Kyle': 1, 'Matt': 1}\n"
     ]
    }
   ],
   "source": [
    "techtalks = ((\"Mike\", 1000), (\"Vijay\", 1), (\"Kyle\", 1), (\"Matt\", 1))  # Name/TechTalks given\n",
    "\n",
    "# create a dictionary for amount of tech talks given\n",
    "techdict = {k: v for k, v in techtalks}\n",
    "\n",
    "print(techdict)\n",
    "\n",
    "nomike = {k: v for k, v in techtalks if k != \"Mike\"}\n",
    "\n",
    "print(nomike)"
   ]
  },
  {
   "cell_type": "code",
   "execution_count": 98,
   "metadata": {
    "collapsed": false,
    "slideshow": {
     "slide_type": "subslide"
    }
   },
   "outputs": [
    {
     "name": "stdout",
     "output_type": "stream",
     "text": [
      "{'mango', 'peach', 'pear', 'apple'}\n",
      "{'peach', 'pear'}\n"
     ]
    }
   ],
   "source": [
    "smoothie1 = (\"apple\", \"peach\", \"mango\")  # Monday's smoothie\n",
    "smoothie2 = (\"pear\", \"apple\", \"peach\")  # Tueday's smoothie\n",
    "\n",
    "# What fruits have you eaten this week?\n",
    "fruits = {f for f in smoothie1 + smoothie2}\n",
    "\n",
    "print(fruits)\n",
    "\n",
    "# What fruits start with a 'p'\n",
    "pfruits = {f for f in smoothie1 + smoothie2 if f.startswith(\"p\")}\n",
    "\n",
    "print(pfruits)"
   ]
  },
  {
   "cell_type": "markdown",
   "metadata": {
    "slideshow": {
     "slide_type": "slide"
    }
   },
   "source": [
    "## Functional Programming"
   ]
  },
  {
   "cell_type": "code",
   "execution_count": 124,
   "metadata": {
    "collapsed": false,
    "slideshow": {
     "slide_type": "subslide"
    }
   },
   "outputs": [
    {
     "name": "stdout",
     "output_type": "stream",
     "text": [
      "True\n",
      "True\n"
     ]
    }
   ],
   "source": [
    "# Any\n",
    "print(any([False, False, False, False, False, True]))\n",
    "\n",
    "threshold = 25\n",
    "measurements = (6, 12, 23, 26, 19)\n",
    "\n",
    "print(any([True if m > threshold else False for m in measurements]))"
   ]
  },
  {
   "cell_type": "code",
   "execution_count": 125,
   "metadata": {
    "collapsed": false,
    "slideshow": {
     "slide_type": "subslide"
    }
   },
   "outputs": [
    {
     "name": "stdout",
     "output_type": "stream",
     "text": [
      "True\n",
      "True\n"
     ]
    }
   ],
   "source": [
    "# All\n",
    "\n",
    "print(all([True, True, True]))\n",
    "animals = (\"aardvark\", \"anteater\", \"antelope\")\n",
    "print(all([animal.startswith(\"a\") for animal in animals]))"
   ]
  },
  {
   "cell_type": "code",
   "execution_count": 126,
   "metadata": {
    "collapsed": false,
    "slideshow": {
     "slide_type": "subslide"
    }
   },
   "outputs": [
    {
     "name": "stdout",
     "output_type": "stream",
     "text": [
      "['AARDVARK', 'ANTEATER', 'ANTELOPE']\n"
     ]
    }
   ],
   "source": [
    "# Map\n",
    "\n",
    "animals = (\"aardvark\", \"anteater\", \"antelope\")\n",
    "loudanimals = map(str.upper, animals)\n",
    "print(list(loudanimals))"
   ]
  },
  {
   "cell_type": "code",
   "execution_count": 132,
   "metadata": {
    "collapsed": false,
    "slideshow": {
     "slide_type": "subslide"
    }
   },
   "outputs": [
    {
     "name": "stdout",
     "output_type": "stream",
     "text": [
      "Thisisasentencesplitupintoatuple.\n"
     ]
    }
   ],
   "source": [
    "# Reduce\n",
    "from operator import add\n",
    "from functools import reduce\n",
    "\n",
    "words = (\"This\", \"is\", \"a\", \"sentence\", \"split\", \"up\", \"into\", \"a\", \"tuple.\")\n",
    "sentence = reduce(add, words)\n",
    "print(sentence)"
   ]
  },
  {
   "cell_type": "code",
   "execution_count": 127,
   "metadata": {
    "collapsed": false,
    "slideshow": {
     "slide_type": "subslide"
    }
   },
   "outputs": [
    {
     "name": "stdout",
     "output_type": "stream",
     "text": [
      "[6, 12, 19]\n"
     ]
    }
   ],
   "source": [
    "# Filter\n",
    "def less_than_20(n):\n",
    "    return n < 20\n",
    "\n",
    "measurements = (6, 12, 23, 26, 19)\n",
    "small_measurements = filter(less_than_20, measurements)\n",
    "print(list(small_measurements))"
   ]
  },
  {
   "cell_type": "markdown",
   "metadata": {
    "slideshow": {
     "slide_type": "slide"
    }
   },
   "source": [
    "## Decorators"
   ]
  },
  {
   "cell_type": "code",
   "execution_count": 133,
   "metadata": {
    "collapsed": false,
    "slideshow": {
     "slide_type": "subslide"
    }
   },
   "outputs": [
    {
     "name": "stdout",
     "output_type": "stream",
     "text": [
      "Hello World!\n"
     ]
    }
   ],
   "source": [
    "# Returning a function\n",
    "def give_me_hello_world():\n",
    "    def hello():\n",
    "        print(\"Hello World!\")\n",
    "    return hello\n",
    "\n",
    "f = give_me_hello_world()\n",
    "f()"
   ]
  },
  {
   "cell_type": "code",
   "execution_count": 134,
   "metadata": {
    "collapsed": false,
    "slideshow": {
     "slide_type": "subslide"
    }
   },
   "outputs": [
    {
     "name": "stdout",
     "output_type": "stream",
     "text": [
      "Going to run your function\n",
      "Running my_func()\n",
      "Done running your function\n"
     ]
    }
   ],
   "source": [
    "# Passing a function to a function\n",
    "def wrap_it(f):\n",
    "    print(\"Going to run your function\")\n",
    "    f()\n",
    "    print(\"Done running your function\")\n",
    "\n",
    "def my_func():\n",
    "    print(\"Running my_func()\")\n",
    "\n",
    "wrap_it(my_func)"
   ]
  },
  {
   "cell_type": "code",
   "execution_count": 136,
   "metadata": {
    "collapsed": false,
    "slideshow": {
     "slide_type": "subslide"
    }
   },
   "outputs": [
    {
     "name": "stdout",
     "output_type": "stream",
     "text": [
      "An exception was raised\n",
      "An exception was raised\n"
     ]
    }
   ],
   "source": [
    "# Passing a function and returning a new one\n",
    "def wrap_in_try(f):\n",
    "    def safe_func():\n",
    "        try:\n",
    "            f()\n",
    "        except:\n",
    "            print(\"An exception was raised\")\n",
    "    return safe_func\n",
    "\n",
    "# You wrote this function\n",
    "def bad_func():\n",
    "    int(\"Hello\")\n",
    "\n",
    "# Normal way of decorating the function\n",
    "good_func = wrap_in_try(bad_func)\n",
    "good_func()\n",
    "\n",
    "# Cool way to decorate the function\n",
    "@wrap_in_try\n",
    "def bad_func2():\n",
    "    int(\"Hello\")\n",
    "\n",
    "bad_func2()"
   ]
  }
 ],
 "metadata": {
  "celltoolbar": "Slideshow",
  "kernelspec": {
   "display_name": "Python 3",
   "language": "python",
   "name": "python3"
  },
  "language_info": {
   "codemirror_mode": {
    "name": "ipython",
    "version": 3
   },
   "file_extension": ".py",
   "mimetype": "text/x-python",
   "name": "python",
   "nbconvert_exporter": "python",
   "pygments_lexer": "ipython3",
   "version": "3.4.3"
  }
 },
 "nbformat": 4,
 "nbformat_minor": 0
}
